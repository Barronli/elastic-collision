{
 "cells": [
  {
   "cell_type": "code",
   "execution_count": null,
   "metadata": {},
   "outputs": [
    {
     "name": "stdout",
     "output_type": "stream",
     "text": [
      "3\n",
      "31\n",
      "314\n",
      "3141\n",
      "31415\n",
      "314159\n",
      "3141592\n",
      "31415926\n",
      "314159265\n"
     ]
    }
   ],
   "source": [
    "from IPython.core.debugger import set_trace\n",
    "\n",
    "def bounce(m, n):\n",
    "    vm = 0; vn = 1.0\n",
    "    times = 0\n",
    "    while vn > vm: \n",
    "        vm_  = (m-n)/(m+n) * vm + (2*n)/(m+n) * vn\n",
    "        vn  = (2*m)/(m+n) * vm + (n-m)/(m+n) * vn\n",
    "        if (vm_ <= 0 and vm_ > vn): \n",
    "            times +=1; break\n",
    "        vm = -vm_\n",
    "        times += 2\n",
    "        \n",
    "    return times\n",
    "\n",
    "if __name__ == \"__main__\":\n",
    "    n = 1\n",
    "    for i in range(10):\n",
    "        times = bounce(1, n)\n",
    "        print(times)\n",
    "        n = n * 100\n",
    "    "
   ]
  }
 ],
 "metadata": {
  "kernelspec": {
   "display_name": "Python 3",
   "language": "python",
   "name": "python3"
  },
  "language_info": {
   "codemirror_mode": {
    "name": "ipython",
    "version": 3
   },
   "file_extension": ".py",
   "mimetype": "text/x-python",
   "name": "python",
   "nbconvert_exporter": "python",
   "pygments_lexer": "ipython3",
   "version": "3.6.5"
  }
 },
 "nbformat": 4,
 "nbformat_minor": 2
}
